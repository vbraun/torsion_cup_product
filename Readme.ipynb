{
 "cells": [
  {
   "cell_type": "markdown",
   "metadata": {
    "deletable": true,
    "editable": true
   },
   "source": [
    "Type II String Theory on Calabi-Yau Manifolds with Torsion and Non-Abelian Discrete Gauge Symmetries\n",
    "=====================================================\n",
    "\n",
    "*Companion worksheet for https://arxiv.org/abs/1702.08071*\n",
    "\n",
    "The paper describes a 6-dimensional Calabi-Yau manifold with a non-trivial cup product between two degree-two torsion classes. As described in the paper, the cup product can be detected by a (non-orientable) 4-dimensional submanifold $Y_0$, see Section 4.2 of the paper. In this worksheet, we construct a $\\Delta$-complex for $Y_0$ and determine the cohomology ring structure.\n",
    "\n",
    "*Note: To run this worksheet yourself you need Sage (http://sagemath.org) and the Python package in the `torus_triangulation` directory of this repository. The latter is only used to build up the cubical/simplicial/$\\Delta$-complex representation of the $Y_0 = T^4 / (\\mathbb{Z}_2 \\times \\mathbb{Z}_2)$ quotient. The computation of cohomology groups and the cup product is taken from Sage.*"
   ]
  },
  {
   "cell_type": "code",
   "execution_count": 1,
   "metadata": {
    "collapsed": true,
    "deletable": true,
    "editable": true
   },
   "outputs": [],
   "source": [
    "from __future__ import print_function, absolute_import\n",
    "from sage.all import *\n",
    "from torus_triangulation.cube_triangulation import CubeTriangulation\n",
    "from torus_triangulation.builder import TorusQuotientBuilder"
   ]
  },
  {
   "cell_type": "markdown",
   "metadata": {
    "deletable": true,
    "editable": true
   },
   "source": [
    "Constructing $Y_0$\n",
    "--------------------\n",
    "\n",
    "Let $z_i = x_i + \\tau y_i$, $i=0,\\dots,2$ be the three complex coordinates on the 6-torus covering $Y$, see Section 3 of the paper. This worksheet constructs the 4-d submanifold $Y_0$ defined by the four coordinates\n",
    "$$(x_0, x_1, x_2, y_0)$$\n",
    "subject to the identifications:\n",
    "* The torus $x_0 \\sim x_0 + 2$,  $x_1 \\sim x_1 + 2$,  $x_2 \\sim x_2 + 2$, and  $y_0 \\sim y_0 + 1$. Note the different domain on $y_0$, which we chose for convenience.\n",
    "* The $G=\\mathbb{Z}_2 \\times \\mathbb{Z}_2$ group action:"
   ]
  },
  {
   "cell_type": "code",
   "execution_count": 2,
   "metadata": {
    "collapsed": true,
    "deletable": true,
    "editable": true
   },
   "outputs": [],
   "source": [
    "def f(point):\n",
    "    return tuple([ point[0] + 1,    -point[1],    -point[2],   point[3]],)\n",
    "\n",
    "def g(point):\n",
    "    return tuple([    -point[0], point[1] + 1, -point[2] + 1, -point[3]])"
   ]
  },
  {
   "cell_type": "markdown",
   "metadata": {},
   "source": [
    "Up to the $G$-action, we need two unit 4-cubes to cover $Y_0$. These are defined below, together with a particular order of their vertices. Combined with a particular choice of triangulation of these unit 4-cubes that is defined by the `CubeTriangulation` Python class, and as long as everything is invariant under the torus identification and $G$-action, this defines a decomposition into simplicies with an order on the vertices, that is, a $\\Delta$-complex.\n",
    "\n",
    "In fact, most orderings for the vertices clash with the (torus and/or $G$-) identifications and fail to define a $\\Delta$-complex. It is a non-trivial fact that there is an ordering that works at all, in general the existence is only guaranteed after subdivision of the simplicies. However, by a computer search we found the following solution:"
   ]
  },
  {
   "cell_type": "code",
   "execution_count": 3,
   "metadata": {
    "collapsed": true,
    "deletable": true,
    "editable": true
   },
   "outputs": [],
   "source": [
    "order1 = [\n",
    "    (1, 1, 1, 0),\n",
    "    (1, 1, 1, 1),\n",
    "    (0, 1, 1, 0),\n",
    "    (0, 1, 1, 1),\n",
    "    (0, 0, 0, 1),\n",
    "    (0, 0, 0, 0),\n",
    "    (1, 0, 0, 1),\n",
    "    (1, 0, 0, 0),\n",
    "    (0, 0, 1, 1),\n",
    "    (1, 0, 1, 1),\n",
    "    (0, 0, 1, 0),\n",
    "    (1, 1, 0, 0),\n",
    "    (1, 0, 1, 0),\n",
    "    (0, 1, 0, 0),\n",
    "    (1, 1, 0, 1),\n",
    "    (0, 1, 0, 1),\n",
    "]\n",
    "order2 = [(o[0]+1, o[1], o[2], o[3]) for o in order1]"
   ]
  },
  {
   "cell_type": "markdown",
   "metadata": {},
   "source": [
    "Given this data, we now build up all simplices on the covering space in the fundamental region $0 \\leq x_0, x_1, x_2 \\leq 2$, $0\\leq y_0 \\leq 1$"
   ]
  },
  {
   "cell_type": "code",
   "execution_count": 4,
   "metadata": {
    "collapsed": false,
    "deletable": true,
    "editable": true
   },
   "outputs": [],
   "source": [
    "builder = TorusQuotientBuilder(2, 2, 2, 1, group_gens=[f, g])\n",
    "\n",
    "cube_triangulation = CubeTriangulation(*order1)\n",
    "for simplex in cube_triangulation:\n",
    "    builder.add_simplex_orbit(*simplex)\n",
    "    \n",
    "cube_triangulation = CubeTriangulation(*order2)\n",
    "for simplex in cube_triangulation:\n",
    "    builder.add_simplex_orbit(*simplex)\n",
    "\n",
    "builder.test()  # Test the construction"
   ]
  },
  {
   "cell_type": "markdown",
   "metadata": {},
   "source": [
    "For example, there are 626 two-simplices, the first 5 of which are defined by the vertices"
   ]
  },
  {
   "cell_type": "code",
   "execution_count": 5,
   "metadata": {
    "collapsed": false
   },
   "outputs": [
    {
     "data": {
      "text/plain": [
       "[((1, 0, 2, 0), (2, 1, 1, 0), (1, 1, 1, 0)),\n",
       " ((1, 0, 2, 0), (1, 1, 1, 1), (1, 0, 1, 1)),\n",
       " ((1, 2, 0, 0), (2, 1, 1, 0), (1, 2, 1, 0)),\n",
       " ((1, 0, 2, 0), (1, 1, 2, 0), (2, 1, 2, 1)),\n",
       " ((0, 0, 2, 1), (0, 0, 2, 0), (1, 0, 1, 1))]"
      ]
     },
     "execution_count": 5,
     "metadata": {},
     "output_type": "execute_result"
    }
   ],
   "source": [
    "list(builder.cells.simplices[3])[0:5]"
   ]
  },
  {
   "cell_type": "markdown",
   "metadata": {
    "deletable": true,
    "editable": true
   },
   "source": [
    "Cohomology groups: The fundamental region\n",
    "-------\n",
    "\n",
    "As a toy example, consider the $[0,2] \\times [0,2] \\times[0,2] \\times [0,1]$ fundamental region before identifying any cells:"
   ]
  },
  {
   "cell_type": "code",
   "execution_count": 6,
   "metadata": {
    "collapsed": false,
    "deletable": true,
    "editable": true
   },
   "outputs": [
    {
     "data": {
      "text/plain": [
       "Delta complex with 54 vertices and 1844 simplices"
      ]
     },
     "execution_count": 6,
     "metadata": {},
     "output_type": "execute_result"
    }
   ],
   "source": [
    "cube = builder.cells.delta_complex();  cube"
   ]
  },
  {
   "cell_type": "markdown",
   "metadata": {},
   "source": [
    "As expected, it has the cohomology groups of a point:"
   ]
  },
  {
   "cell_type": "code",
   "execution_count": 7,
   "metadata": {
    "collapsed": false,
    "deletable": true,
    "editable": true
   },
   "outputs": [
    {
     "data": {
      "text/plain": [
       "{0: Z, 1: 0, 2: 0, 3: 0, 4: 0}"
      ]
     },
     "execution_count": 7,
     "metadata": {},
     "output_type": "execute_result"
    }
   ],
   "source": [
    "cube.cohomology(reduced=False)"
   ]
  },
  {
   "cell_type": "markdown",
   "metadata": {
    "deletable": true,
    "editable": true
   },
   "source": [
    "Cohomology Groups: Four-torus\n",
    "-------\n",
    "\n",
    "Let us quickly check that we indeed obtain a $T^4$ by identifying opposing sides (and ignoring the $G$-action):"
   ]
  },
  {
   "cell_type": "code",
   "execution_count": 8,
   "metadata": {
    "collapsed": false,
    "deletable": true,
    "editable": true
   },
   "outputs": [
    {
     "data": {
      "text/plain": [
       "Delta complex with 8 vertices and 1201 simplices"
      ]
     },
     "execution_count": 8,
     "metadata": {},
     "output_type": "execute_result"
    }
   ],
   "source": [
    "T4 = builder.torus_cells.delta_complex();  T4"
   ]
  },
  {
   "cell_type": "code",
   "execution_count": 9,
   "metadata": {
    "collapsed": false,
    "deletable": true,
    "editable": true
   },
   "outputs": [
    {
     "data": {
      "text/plain": [
       "{0: Z, 1: Z x Z x Z x Z, 2: Z^6, 3: Z x Z x Z x Z, 4: Z}"
      ]
     },
     "execution_count": 9,
     "metadata": {},
     "output_type": "execute_result"
    }
   ],
   "source": [
    "T4.cohomology(reduced=False)"
   ]
  },
  {
   "cell_type": "markdown",
   "metadata": {
    "deletable": true,
    "editable": true
   },
   "source": [
    "Cohomology groups of $Y_0$\n",
    "------\n",
    "\n",
    "Finally, we construct the $\\Delta$-complex for the $Y_0=T^4/G$ quotient"
   ]
  },
  {
   "cell_type": "code",
   "execution_count": 10,
   "metadata": {
    "collapsed": false,
    "deletable": true,
    "editable": true
   },
   "outputs": [
    {
     "data": {
      "text/plain": [
       "Delta complex with 2 vertices and 301 simplices"
      ]
     },
     "execution_count": 10,
     "metadata": {},
     "output_type": "execute_result"
    }
   ],
   "source": [
    "Y0 = builder.quotient_cells.delta_complex();  Y0"
   ]
  },
  {
   "cell_type": "code",
   "execution_count": 11,
   "metadata": {
    "collapsed": false,
    "deletable": true,
    "editable": true
   },
   "outputs": [
    {
     "data": {
      "text/plain": [
       "{0: Z, 1: 0, 2: Z x C2 x C4 x C4, 3: Z x Z, 4: C2}"
      ]
     },
     "execution_count": 11,
     "metadata": {},
     "output_type": "execute_result"
    }
   ],
   "source": [
    "Y0.cohomology(reduced=False)"
   ]
  },
  {
   "cell_type": "markdown",
   "metadata": {
    "deletable": true,
    "editable": true
   },
   "source": [
    "Cup Products\n",
    "------------\n",
    "\n",
    "By dimension, the only interesting case is $H^2(Y_0,\\mathbb{Z}) \\times H^2(Y_0,\\mathbb{Z}) \\to H^4(Y_0,\\mathbb{Z})$. We start by extracting generators in degree 2, that is, 2-cochains:"
   ]
  },
  {
   "cell_type": "code",
   "execution_count": 12,
   "metadata": {
    "collapsed": true,
    "deletable": true,
    "editable": true
   },
   "outputs": [],
   "source": [
    "chains2 = Y0.n_chains(2, base_ring=ZZ, cochains=True)\n",
    "h2_0, h2_1, h2_2, h2_3 = Y0.cohomology(generators=True, dim=2)\n",
    "c0 = chains2.from_vector(h2_0[1].vector(2))\n",
    "c1 = chains2.from_vector(h2_1[1].vector(2))\n",
    "c2 = chains2.from_vector(h2_2[1].vector(2))\n",
    "c3 = chains2.from_vector(h2_3[1].vector(2))"
   ]
  },
  {
   "cell_type": "markdown",
   "metadata": {
    "deletable": true,
    "editable": true
   },
   "source": [
    "We now verify that the chosen generators of $H^2(T^4/G)$ are:\n",
    "* c0 is 2-torsion\n",
    "* c1, c2 are 4-torsion\n",
    "* c3 is free"
   ]
  },
  {
   "cell_type": "code",
   "execution_count": 13,
   "metadata": {
    "collapsed": false,
    "deletable": true,
    "editable": true
   },
   "outputs": [
    {
     "name": "stdout",
     "output_type": "stream",
     "text": [
      "True False True True\n",
      "True False False True\n",
      "True False False True\n",
      "True False False False\n"
     ]
    }
   ],
   "source": [
    "for c in [c0, c1, c2, c3]:\n",
    "    print(c.is_cocycle(), c.is_coboundary(), (2*c).is_coboundary(), (4*c).is_coboundary())"
   ]
  },
  {
   "cell_type": "markdown",
   "metadata": {},
   "source": [
    "For the codomain of the cup product we also need to chose a generator, which we take to be the 4-cochain `y0`:"
   ]
  },
  {
   "cell_type": "code",
   "execution_count": 14,
   "metadata": {
    "collapsed": false,
    "deletable": true,
    "editable": true
   },
   "outputs": [],
   "source": [
    "chains4 = Y0.n_chains(4, base_ring=ZZ, cochains=True)\n",
    "h4_0, = Y0.cohomology(generators=True, dim=4)\n",
    "y0 = chains4.from_vector(h4_0[1].vector(4))"
   ]
  },
  {
   "cell_type": "markdown",
   "metadata": {
    "deletable": true,
    "editable": true
   },
   "source": [
    "The generator of $H^4(T^4/G)$ is `y0`, and we verify that it is 2-torsion:"
   ]
  },
  {
   "cell_type": "code",
   "execution_count": 15,
   "metadata": {
    "collapsed": false,
    "deletable": true,
    "editable": true
   },
   "outputs": [
    {
     "data": {
      "text/plain": [
       "(True, False, True)"
      ]
     },
     "execution_count": 15,
     "metadata": {},
     "output_type": "execute_result"
    }
   ],
   "source": [
    "y0.is_cocycle(), y0.is_coboundary(), (2*y0).is_coboundary()"
   ]
  },
  {
   "cell_type": "markdown",
   "metadata": {
    "deletable": true,
    "editable": true
   },
   "source": [
    "By checking which degree-4 expressions are coboundaries, we can easily build up a list of all cup products:"
   ]
  },
  {
   "cell_type": "code",
   "execution_count": 16,
   "metadata": {
    "collapsed": false,
    "deletable": true,
    "editable": true
   },
   "outputs": [
    {
     "data": {
      "text/plain": [
       "[True,\n",
       " True,\n",
       " True,\n",
       " True,\n",
       " True,\n",
       " True,\n",
       " True,\n",
       " True,\n",
       " True,\n",
       " True,\n",
       " True,\n",
       " True,\n",
       " True,\n",
       " True,\n",
       " True,\n",
       " True]"
      ]
     },
     "execution_count": 16,
     "metadata": {},
     "output_type": "execute_result"
    }
   ],
   "source": [
    "[c0.cup_product(c0).is_coboundary(),\n",
    " c0.cup_product(c1).is_coboundary(),\n",
    " (c0.cup_product(c2) - y0).is_coboundary(),\n",
    " c0.cup_product(c3).is_coboundary(),\n",
    "\n",
    " c1.cup_product(c0).is_coboundary(),\n",
    " c1.cup_product(c1).is_coboundary(),\n",
    " (c1.cup_product(c2) - y0).is_coboundary(),\n",
    " (c1.cup_product(c3) - y0).is_coboundary(),\n",
    "\n",
    " (c2.cup_product(c0) - y0).is_coboundary(),\n",
    " (c2.cup_product(c1) - y0).is_coboundary(),\n",
    " c2.cup_product(c2).is_coboundary(),\n",
    " c2.cup_product(c3).is_coboundary(),\n",
    "\n",
    " c3.cup_product(c0).is_coboundary(),\n",
    " (c3.cup_product(c1) - y0).is_coboundary(),\n",
    " c3.cup_product(c2).is_coboundary(),\n",
    " c3.cup_product(c3).is_coboundary(),\n",
    "]"
   ]
  },
  {
   "cell_type": "code",
   "execution_count": 17,
   "metadata": {
    "collapsed": false,
    "deletable": true,
    "editable": true
   },
   "outputs": [],
   "source": [
    "def trivial_cup_product_table(*cohomology_generators):\n",
    "    \"\"\"\n",
    "    Make a table whose entries are whether the cup product is trivial\n",
    "    \"\"\"\n",
    "    names = ['c0', 'c1', 'c2', 'c3']\n",
    "    rows = [[''] + names]\n",
    "    for row_name, c in zip(names, cohomology_generators):\n",
    "        row = [row_name]\n",
    "        for d in cohomology_generators:\n",
    "            cd = c.cup_product(d)\n",
    "            assert cd.is_cocycle()\n",
    "            row.append(cd.is_coboundary())\n",
    "        rows.append(row)\n",
    "    return table(rows)"
   ]
  },
  {
   "cell_type": "code",
   "execution_count": 18,
   "metadata": {
    "collapsed": false,
    "deletable": true,
    "editable": true
   },
   "outputs": [
    {
     "data": {
      "text/html": [
       "<div class=\"notruncate\">\n",
       "<table  class=\"table_form\">\n",
       "<tbody>\n",
       "<tr class =\"row-a\">\n",
       "<td></td>\n",
       "<td>c0</td>\n",
       "<td>c1</td>\n",
       "<td>c2</td>\n",
       "<td>c3</td>\n",
       "</tr>\n",
       "<tr class =\"row-b\">\n",
       "<td>c0</td>\n",
       "<td><script type=\"math/tex\">\\mathrm{True}</script></td>\n",
       "<td><script type=\"math/tex\">\\mathrm{True}</script></td>\n",
       "<td><script type=\"math/tex\">\\mathrm{False}</script></td>\n",
       "<td><script type=\"math/tex\">\\mathrm{True}</script></td>\n",
       "</tr>\n",
       "<tr class =\"row-a\">\n",
       "<td>c1</td>\n",
       "<td><script type=\"math/tex\">\\mathrm{True}</script></td>\n",
       "<td><script type=\"math/tex\">\\mathrm{True}</script></td>\n",
       "<td><script type=\"math/tex\">\\mathrm{False}</script></td>\n",
       "<td><script type=\"math/tex\">\\mathrm{False}</script></td>\n",
       "</tr>\n",
       "<tr class =\"row-b\">\n",
       "<td>c2</td>\n",
       "<td><script type=\"math/tex\">\\mathrm{False}</script></td>\n",
       "<td><script type=\"math/tex\">\\mathrm{False}</script></td>\n",
       "<td><script type=\"math/tex\">\\mathrm{True}</script></td>\n",
       "<td><script type=\"math/tex\">\\mathrm{True}</script></td>\n",
       "</tr>\n",
       "<tr class =\"row-a\">\n",
       "<td>c3</td>\n",
       "<td><script type=\"math/tex\">\\mathrm{True}</script></td>\n",
       "<td><script type=\"math/tex\">\\mathrm{False}</script></td>\n",
       "<td><script type=\"math/tex\">\\mathrm{True}</script></td>\n",
       "<td><script type=\"math/tex\">\\mathrm{True}</script></td>\n",
       "</tr>\n",
       "</tbody>\n",
       "</table>\n",
       "</div>"
      ],
      "text/plain": [
       "       c0      c1      c2      c3\n",
       "  c0   True    True    False   True\n",
       "  c1   True    True    False   False\n",
       "  c2   False   False   True    True\n",
       "  c3   True    False   True    True"
      ]
     },
     "execution_count": 18,
     "metadata": {},
     "output_type": "execute_result"
    }
   ],
   "source": [
    "trivial_cup_product_table(c0, c1, c2, c3)"
   ]
  },
  {
   "cell_type": "markdown",
   "metadata": {
    "deletable": true,
    "editable": true
   },
   "source": [
    "Alternate Basis\n",
    "---------------\n",
    "\n",
    "There is a slightly better basis choice that leads to fewer non-trivial table entries:"
   ]
  },
  {
   "cell_type": "code",
   "execution_count": 19,
   "metadata": {
    "collapsed": false,
    "deletable": true,
    "editable": true
   },
   "outputs": [
    {
     "data": {
      "text/html": [
       "<div class=\"notruncate\">\n",
       "<table  class=\"table_form\">\n",
       "<tbody>\n",
       "<tr class =\"row-a\">\n",
       "<td></td>\n",
       "<td>c0</td>\n",
       "<td>c1</td>\n",
       "<td>c2</td>\n",
       "<td>c3</td>\n",
       "</tr>\n",
       "<tr class =\"row-b\">\n",
       "<td>c0</td>\n",
       "<td><script type=\"math/tex\">\\mathrm{True}</script></td>\n",
       "<td><script type=\"math/tex\">\\mathrm{False}</script></td>\n",
       "<td><script type=\"math/tex\">\\mathrm{True}</script></td>\n",
       "<td><script type=\"math/tex\">\\mathrm{True}</script></td>\n",
       "</tr>\n",
       "<tr class =\"row-a\">\n",
       "<td>c1</td>\n",
       "<td><script type=\"math/tex\">\\mathrm{False}</script></td>\n",
       "<td><script type=\"math/tex\">\\mathrm{True}</script></td>\n",
       "<td><script type=\"math/tex\">\\mathrm{True}</script></td>\n",
       "<td><script type=\"math/tex\">\\mathrm{True}</script></td>\n",
       "</tr>\n",
       "<tr class =\"row-b\">\n",
       "<td>c2</td>\n",
       "<td><script type=\"math/tex\">\\mathrm{True}</script></td>\n",
       "<td><script type=\"math/tex\">\\mathrm{True}</script></td>\n",
       "<td><script type=\"math/tex\">\\mathrm{True}</script></td>\n",
       "<td><script type=\"math/tex\">\\mathrm{False}</script></td>\n",
       "</tr>\n",
       "<tr class =\"row-a\">\n",
       "<td>c3</td>\n",
       "<td><script type=\"math/tex\">\\mathrm{True}</script></td>\n",
       "<td><script type=\"math/tex\">\\mathrm{True}</script></td>\n",
       "<td><script type=\"math/tex\">\\mathrm{False}</script></td>\n",
       "<td><script type=\"math/tex\">\\mathrm{True}</script></td>\n",
       "</tr>\n",
       "</tbody>\n",
       "</table>\n",
       "</div>"
      ],
      "text/plain": [
       "       c0      c1      c2      c3\n",
       "  c0   True    False   True    True\n",
       "  c1   False   True    True    True\n",
       "  c2   True    True    True    False\n",
       "  c3   True    True    False   True"
      ]
     },
     "execution_count": 19,
     "metadata": {},
     "output_type": "execute_result"
    }
   ],
   "source": [
    "trivial_cup_product_table(c0, c2, c1+c0, c3+2*c2)"
   ]
  }
 ],
 "metadata": {
  "kernelspec": {
   "display_name": "SageMath 7.0.beta3",
   "language": "",
   "name": "sagemath"
  },
  "language_info": {
   "codemirror_mode": {
    "name": "ipython",
    "version": 2
   },
   "file_extension": ".py",
   "mimetype": "text/x-python",
   "name": "python",
   "nbconvert_exporter": "python",
   "pygments_lexer": "ipython2",
   "version": "2.7.13"
  }
 },
 "nbformat": 4,
 "nbformat_minor": 0
}
